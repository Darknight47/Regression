{
 "cells": [
  {
   "cell_type": "markdown",
   "metadata": {},
   "source": [
    "## Main Task\n",
    "> Predicting the net hourly electerical energy output of a plant!"
   ]
  },
  {
   "cell_type": "markdown",
   "metadata": {},
   "source": [
    "## Data Understanding  \n",
    "\n",
    "**1.0. What is the domain area of the dataset?**  \n",
    "The dataset *Cycle_Powerplant* contains information combined cycle power plant collected over 6 years!\n",
    "\n",
    "**1.1. Under which circumstances was it collected?**  \n",
    "The data had been collected between 2006 - 2011 and when the power plant was set to work with full load!  \n",
    "\n",
    "**2.0. Which data format?**  \n",
    "The dataset has the *CSV* format!  \n",
    "\n",
    "**2.1. Do the files have headers or another file describing the data?**  \n",
    "Yes, the file has headers!  \n",
    "\n",
    "**2.2. Are the data values separated by commas, semicolon, or tabs?**  \n",
    "The data values are separated by commas;\n",
    "Example: \n",
    "*Amgen Temperature,Exhaust Vaccum,Ambient Pressure,Relative Humidity,Energy*  \n",
    "*14.96,41.76,1024.07,73.17,463.26*  \n",
    "\n",
    "**3.0 How many features and how many observations does the dataset have?**  \n",
    "The dataset has:  \n",
    "* 5 features or columns!  \n",
    "* 9568 observations or rows!  \n",
    "\n",
    "**4.0 Does it contain numerical features? How many?**  \n",
    "The dataset only contains numerical features, 5 numerical features!  "
   ]
  },
  {
   "cell_type": "code",
   "execution_count": 9,
   "metadata": {},
   "outputs": [],
   "source": [
    "# Importing necessary libraries\n",
    "\n",
    "import numpy as np\n",
    "import matplotlib.pyplot as plt\n",
    "import pandas as pd\n",
    "import seaborn as sns\n",
    "from sklearn.preprocessing import StandardScaler\n",
    "from sklearn.svm import SVR"
   ]
  },
  {
   "cell_type": "code",
   "execution_count": 2,
   "metadata": {},
   "outputs": [],
   "source": [
    "powerPlant = pd.read_csv(\"../Datasets/Cycle_Powerplant.csv\")\n",
    "X = powerPlant.iloc[:, :-1].values\n",
    "y = powerPlant.iloc[:, -1].values"
   ]
  },
  {
   "cell_type": "markdown",
   "metadata": {},
   "source": [
    "### Basic Exploratory Data Analysis\n",
    "\n",
    "#### Dataset's Features/Variables\n",
    "\n",
    "**Amgen Temperature** (AT) in the range 1.81°C and 37.11°C!  \n",
    "**Exhaust Vacuum** (EV) in teh range 25.36-81.56 cm Hg!  \n",
    "**Ambient Pressure** (AP) in the range 992.89-1033.30 milibar!  \n",
    "**Relative Humidity** (RH) in the range 25.56% to 100.16%!  \n",
    "**Net hourly electrical energy** output (E) 420.26-495.76 MW!  "
   ]
  },
  {
   "cell_type": "code",
   "execution_count": 3,
   "metadata": {},
   "outputs": [
    {
     "data": {
      "text/html": [
       "<div>\n",
       "<style scoped>\n",
       "    .dataframe tbody tr th:only-of-type {\n",
       "        vertical-align: middle;\n",
       "    }\n",
       "\n",
       "    .dataframe tbody tr th {\n",
       "        vertical-align: top;\n",
       "    }\n",
       "\n",
       "    .dataframe thead th {\n",
       "        text-align: right;\n",
       "    }\n",
       "</style>\n",
       "<table border=\"1\" class=\"dataframe\">\n",
       "  <thead>\n",
       "    <tr style=\"text-align: right;\">\n",
       "      <th></th>\n",
       "      <th>AT</th>\n",
       "      <th>EV</th>\n",
       "      <th>AP</th>\n",
       "      <th>RH</th>\n",
       "      <th>Energy</th>\n",
       "    </tr>\n",
       "  </thead>\n",
       "  <tbody>\n",
       "    <tr>\n",
       "      <th>0</th>\n",
       "      <td>14.96</td>\n",
       "      <td>41.76</td>\n",
       "      <td>1024.07</td>\n",
       "      <td>73.17</td>\n",
       "      <td>463.26</td>\n",
       "    </tr>\n",
       "    <tr>\n",
       "      <th>1</th>\n",
       "      <td>25.18</td>\n",
       "      <td>62.96</td>\n",
       "      <td>1020.04</td>\n",
       "      <td>59.08</td>\n",
       "      <td>444.37</td>\n",
       "    </tr>\n",
       "    <tr>\n",
       "      <th>2</th>\n",
       "      <td>5.11</td>\n",
       "      <td>39.40</td>\n",
       "      <td>1012.16</td>\n",
       "      <td>92.14</td>\n",
       "      <td>488.56</td>\n",
       "    </tr>\n",
       "    <tr>\n",
       "      <th>3</th>\n",
       "      <td>20.86</td>\n",
       "      <td>57.32</td>\n",
       "      <td>1010.24</td>\n",
       "      <td>76.64</td>\n",
       "      <td>446.48</td>\n",
       "    </tr>\n",
       "    <tr>\n",
       "      <th>4</th>\n",
       "      <td>10.82</td>\n",
       "      <td>37.50</td>\n",
       "      <td>1009.23</td>\n",
       "      <td>96.62</td>\n",
       "      <td>473.90</td>\n",
       "    </tr>\n",
       "  </tbody>\n",
       "</table>\n",
       "</div>"
      ],
      "text/plain": [
       "      AT     EV       AP     RH  Energy\n",
       "0  14.96  41.76  1024.07  73.17  463.26\n",
       "1  25.18  62.96  1020.04  59.08  444.37\n",
       "2   5.11  39.40  1012.16  92.14  488.56\n",
       "3  20.86  57.32  1010.24  76.64  446.48\n",
       "4  10.82  37.50  1009.23  96.62  473.90"
      ]
     },
     "execution_count": 3,
     "metadata": {},
     "output_type": "execute_result"
    }
   ],
   "source": [
    "powerPlant.head()"
   ]
  },
  {
   "cell_type": "code",
   "execution_count": 4,
   "metadata": {},
   "outputs": [
    {
     "data": {
      "text/html": [
       "<div>\n",
       "<style scoped>\n",
       "    .dataframe tbody tr th:only-of-type {\n",
       "        vertical-align: middle;\n",
       "    }\n",
       "\n",
       "    .dataframe tbody tr th {\n",
       "        vertical-align: top;\n",
       "    }\n",
       "\n",
       "    .dataframe thead th {\n",
       "        text-align: right;\n",
       "    }\n",
       "</style>\n",
       "<table border=\"1\" class=\"dataframe\">\n",
       "  <thead>\n",
       "    <tr style=\"text-align: right;\">\n",
       "      <th></th>\n",
       "      <th>AT</th>\n",
       "      <th>EV</th>\n",
       "      <th>AP</th>\n",
       "      <th>RH</th>\n",
       "      <th>Energy</th>\n",
       "    </tr>\n",
       "  </thead>\n",
       "  <tbody>\n",
       "    <tr>\n",
       "      <th>count</th>\n",
       "      <td>9568.000000</td>\n",
       "      <td>9568.000000</td>\n",
       "      <td>9568.000000</td>\n",
       "      <td>9568.000000</td>\n",
       "      <td>9568.000000</td>\n",
       "    </tr>\n",
       "    <tr>\n",
       "      <th>mean</th>\n",
       "      <td>19.651231</td>\n",
       "      <td>54.305804</td>\n",
       "      <td>1013.259078</td>\n",
       "      <td>73.308978</td>\n",
       "      <td>454.365009</td>\n",
       "    </tr>\n",
       "    <tr>\n",
       "      <th>std</th>\n",
       "      <td>7.452473</td>\n",
       "      <td>12.707893</td>\n",
       "      <td>5.938784</td>\n",
       "      <td>14.600269</td>\n",
       "      <td>17.066995</td>\n",
       "    </tr>\n",
       "    <tr>\n",
       "      <th>min</th>\n",
       "      <td>1.810000</td>\n",
       "      <td>25.360000</td>\n",
       "      <td>992.890000</td>\n",
       "      <td>25.560000</td>\n",
       "      <td>420.260000</td>\n",
       "    </tr>\n",
       "    <tr>\n",
       "      <th>25%</th>\n",
       "      <td>13.510000</td>\n",
       "      <td>41.740000</td>\n",
       "      <td>1009.100000</td>\n",
       "      <td>63.327500</td>\n",
       "      <td>439.750000</td>\n",
       "    </tr>\n",
       "    <tr>\n",
       "      <th>50%</th>\n",
       "      <td>20.345000</td>\n",
       "      <td>52.080000</td>\n",
       "      <td>1012.940000</td>\n",
       "      <td>74.975000</td>\n",
       "      <td>451.550000</td>\n",
       "    </tr>\n",
       "    <tr>\n",
       "      <th>75%</th>\n",
       "      <td>25.720000</td>\n",
       "      <td>66.540000</td>\n",
       "      <td>1017.260000</td>\n",
       "      <td>84.830000</td>\n",
       "      <td>468.430000</td>\n",
       "    </tr>\n",
       "    <tr>\n",
       "      <th>max</th>\n",
       "      <td>37.110000</td>\n",
       "      <td>81.560000</td>\n",
       "      <td>1033.300000</td>\n",
       "      <td>100.160000</td>\n",
       "      <td>495.760000</td>\n",
       "    </tr>\n",
       "  </tbody>\n",
       "</table>\n",
       "</div>"
      ],
      "text/plain": [
       "                AT           EV           AP           RH       Energy\n",
       "count  9568.000000  9568.000000  9568.000000  9568.000000  9568.000000\n",
       "mean     19.651231    54.305804  1013.259078    73.308978   454.365009\n",
       "std       7.452473    12.707893     5.938784    14.600269    17.066995\n",
       "min       1.810000    25.360000   992.890000    25.560000   420.260000\n",
       "25%      13.510000    41.740000  1009.100000    63.327500   439.750000\n",
       "50%      20.345000    52.080000  1012.940000    74.975000   451.550000\n",
       "75%      25.720000    66.540000  1017.260000    84.830000   468.430000\n",
       "max      37.110000    81.560000  1033.300000   100.160000   495.760000"
      ]
     },
     "execution_count": 4,
     "metadata": {},
     "output_type": "execute_result"
    }
   ],
   "source": [
    "powerPlant.describe()"
   ]
  },
  {
   "cell_type": "code",
   "execution_count": 5,
   "metadata": {},
   "outputs": [
    {
     "name": "stdout",
     "output_type": "stream",
     "text": [
      "Number of features in the dataset is 5 and the number of observations/rows in the dataset is 9568\n"
     ]
    }
   ],
   "source": [
    "print(f\"Number of features in the dataset is {powerPlant.shape[1]} and the number of observations/rows in the dataset is {powerPlant.shape[0]}\")"
   ]
  },
  {
   "cell_type": "markdown",
   "metadata": {},
   "source": [
    "### Handling Missing Values"
   ]
  },
  {
   "cell_type": "code",
   "execution_count": 6,
   "metadata": {},
   "outputs": [
    {
     "data": {
      "text/plain": [
       "AT        0\n",
       "EV        0\n",
       "AP        0\n",
       "RH        0\n",
       "Energy    0\n",
       "dtype: int64"
      ]
     },
     "execution_count": 6,
     "metadata": {},
     "output_type": "execute_result"
    }
   ],
   "source": [
    "powerPlant.isnull().sum()"
   ]
  },
  {
   "cell_type": "code",
   "execution_count": 7,
   "metadata": {},
   "outputs": [
    {
     "data": {
      "text/plain": [
       "AT        0\n",
       "EV        0\n",
       "AP        0\n",
       "RH        0\n",
       "Energy    0\n",
       "dtype: int64"
      ]
     },
     "execution_count": 7,
     "metadata": {},
     "output_type": "execute_result"
    }
   ],
   "source": [
    "powerPlant.isna().sum()"
   ]
  },
  {
   "cell_type": "markdown",
   "metadata": {},
   "source": [
    "### Correlation Between Variables"
   ]
  },
  {
   "cell_type": "code",
   "execution_count": 10,
   "metadata": {},
   "outputs": [
    {
     "data": {
      "image/png": "[encoded data removed]",
      "text/plain": [
       "<Figure size 600x300 with 2 Axes>"
      ]
     },
     "metadata": {},
     "output_type": "display_data"
    }
   ],
   "source": [
    "correlation_matrix = powerPlant.corr()\n",
    "\n",
    "plt.figure(figsize=(6, 3))\n",
    "sns.heatmap(correlation_matrix, annot= True, cmap='coolwarm')\n",
    "plt.show()"
   ]
  },
  {
   "cell_type": "markdown",
   "metadata": {},
   "source": [
    "* A positive correlation indicates that as one variable increases, the other also increases!  \n",
    "* A negative correlation indicates that as one variable increases, the other decreases!  \n",
    "> However correlation does not imply causation!    "
   ]
  },
  {
   "cell_type": "markdown",
   "metadata": {},
   "source": [
    "## Model Building"
   ]
  },
  {
   "cell_type": "code",
   "execution_count": 11,
   "metadata": {},
   "outputs": [
    {
     "name": "stdout",
     "output_type": "stream",
     "text": [
      "[[  14.96   41.76 1024.07   73.17]\n",
      " [  25.18   62.96 1020.04   59.08]\n",
      " [   5.11   39.4  1012.16   92.14]\n",
      " ...\n",
      " [  31.32   74.33 1012.92   36.48]\n",
      " [  24.48   69.45 1013.86   62.39]\n",
      " [  21.6    62.52 1017.23   67.87]]\n"
     ]
    }
   ],
   "source": [
    "print(X)"
   ]
  },
  {
   "cell_type": "code",
   "execution_count": 12,
   "metadata": {},
   "outputs": [
    {
     "name": "stdout",
     "output_type": "stream",
     "text": [
      "[463.26 444.37 488.56 ... 429.57 435.74 453.28]\n"
     ]
    }
   ],
   "source": [
    "print(y)"
   ]
  },
  {
   "cell_type": "markdown",
   "metadata": {},
   "source": [
    "### Feature Scaling Needed\n",
    "\n",
    "X- variables have different range, the one with a large range can influence more the model! \n",
    "\n",
    "> The goal is to ensure that all features have a similar scale so that no particular feature dominates others when a model is being trained!  "
   ]
  },
  {
   "cell_type": "code",
   "execution_count": 14,
   "metadata": {},
   "outputs": [
    {
     "name": "stdout",
     "output_type": "stream",
     "text": [
      "[[-0.62951938 -0.98729659  1.8204884  -0.00951935]\n",
      " [ 0.74190911  0.68104512  1.1418628  -0.97462052]\n",
      " [-1.95129733 -1.17301765 -0.18507756  1.2898397 ]\n",
      " ...\n",
      " [ 1.56583973  1.57581141 -0.05709854 -2.52261812]\n",
      " [ 0.64797565  1.19177803  0.1011913  -0.74790051]\n",
      " [ 0.26150656  0.64641916  0.66867722 -0.37254534]]\n"
     ]
    }
   ],
   "source": [
    "sc_X = StandardScaler()\n",
    "X = sc_X.fit_transform(X)\n",
    "\n",
    "print(X)"
   ]
  },
  {
   "cell_type": "markdown",
   "metadata": {},
   "source": [
    "**Before we scale** the *y* variable, we need to **reshape** it first because *StandardScaler* requires a **2D** array!  "
   ]
  },
  {
   "cell_type": "code",
   "execution_count": 15,
   "metadata": {},
   "outputs": [
    {
     "name": "stdout",
     "output_type": "stream",
     "text": [
      "[[463.26]\n",
      " [444.37]\n",
      " [488.56]\n",
      " ...\n",
      " [429.57]\n",
      " [435.74]\n",
      " [453.28]]\n"
     ]
    }
   ],
   "source": [
    "y = y.reshape(len(y), 1)\n",
    "print(y)"
   ]
  },
  {
   "cell_type": "code",
   "execution_count": 16,
   "metadata": {},
   "outputs": [
    {
     "name": "stdout",
     "output_type": "stream",
     "text": [
      "[[ 0.52120807]\n",
      " [-0.58566442]\n",
      " [ 2.00367889]\n",
      " ...\n",
      " [-1.45288056]\n",
      " [-1.09134518]\n",
      " [-0.06357687]]\n"
     ]
    }
   ],
   "source": [
    "sc_y = StandardScaler()\n",
    "y = sc_y.fit_transform(y)\n",
    "\n",
    "print(y)"
   ]
  }
 ],
 "metadata": {
  "kernelspec": {
   "display_name": "Python 3",
   "language": "python",
   "name": "python3"
  },
  "language_info": {
   "codemirror_mode": {
    "name": "ipython",
    "version": 3
   },
   "file_extension": ".py",
   "mimetype": "text/x-python",
   "name": "python",
   "nbconvert_exporter": "python",
   "pygments_lexer": "ipython3",
   "version": "3.12.2"
  }
 },
 "nbformat": 4,
 "nbformat_minor": 2
}
