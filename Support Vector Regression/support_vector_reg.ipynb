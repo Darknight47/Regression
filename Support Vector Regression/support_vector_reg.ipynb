{
 "cells": [
  {
   "cell_type": "markdown",
   "metadata": {},
   "source": [
    "## Main Question\n",
    "\n",
    "> A candidate that we are considering to hire is asking for a salary of 160,000 US dollars per year. He justifies this by claiming that he earned the same amount at his previous company! The person/candidate has worked as region manager for two years!  \n",
    "\n",
    "> **Is his claim true or is it a bluff?**"
   ]
  },
  {
   "cell_type": "markdown",
   "metadata": {},
   "source": [
    "## Data Understaing"
   ]
  },
  {
   "cell_type": "markdown",
   "metadata": {},
   "source": [
    "**1.0. What is the domain area of the dataset?**  \n",
    "The dataset *Position_Salaries.csv* contains information about different salaries at a company for different positions!  \n",
    "\n",
    "**1.1. Under which circumstances was it collected?**  \n",
    "It was obtained through different websites!  \n",
    "\n",
    "**2.0. Which data format?**  \n",
    "The data is in *CSV* format!  "
   ]
  }
 ],
 "metadata": {
  "language_info": {
   "name": "python"
  }
 },
 "nbformat": 4,
 "nbformat_minor": 2
}
