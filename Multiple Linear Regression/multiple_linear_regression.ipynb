{
 "cells": [
  {
   "cell_type": "markdown",
   "metadata": {},
   "source": [
    "## Main Question\n",
    "\n",
    "> **What is the expected median home value for a district with a specific *lower_stat_pct* and *border_charles* value?**"
   ]
  },
  {
   "cell_type": "markdown",
   "metadata": {},
   "source": [
    "## Data Understanding"
   ]
  },
  {
   "cell_type": "markdown",
   "metadata": {},
   "source": [
    "**1.0. What is the domain area of the dataset?**  \n",
    "The dataset *boston.csv* contains information collected by the U.S Census Service concerning housing in the area of Boston Mass!  \n",
    "\n",
    "**1.1. Under which circumstances was it collected?**  \n",
    "t was obtained from the StatLib archive (http://lib.stat.cmu.edu/datasets/boston)!  \n",
    "\n",
    "**2.0. Which data format?**  \n",
    "The format of the dataset is *.RDATA*!\n",
    "But the dataset is converted then to the *.csv* format!    \n",
    "\n",
    "**2.1. Do the files have headers or another file describing the data?**  \n",
    "The files does have headers that describes the data! Each column has a name that describes the data it contains!  \n",
    "\n",
    "**2.2. Are the data values separated by commas, semicolon, or tabs?**  \n",
    "The data values are separated by commas!  \n",
    "Example: *Somerville\t-71.0677\t42.2335\t17.4\t0.32264\t0.0\t21.89\t0\t0.624\t5.942\t93.5\t1.9669\t4\t437\t21.2\t16.90\t5238.464894*  \n",
    "\n",
    "**3.0 How many features and how many observations does the dataset have?**  \n",
    "The dataset has:  \n",
    "* 17 features or columns!\n",
    "* 480 observations or rows!  \n",
    "\n",
    "**4.0 Does it contain numerical features? How many?**  \n",
    "Yes it contains 14 numerical features!  \n",
    "\n",
    "**5.0. Does it contain categorical features?  How many?**  \n",
    "Yes it contains 3 categorical features!  "
   ]
  },
  {
   "cell_type": "markdown",
   "metadata": {},
   "source": []
  }
 ],
 "metadata": {
  "language_info": {
   "name": "python"
  }
 },
 "nbformat": 4,
 "nbformat_minor": 2
}
