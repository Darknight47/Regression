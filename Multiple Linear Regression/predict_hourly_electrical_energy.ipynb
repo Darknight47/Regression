{
 "cells": [
  {
   "cell_type": "markdown",
   "metadata": {},
   "source": [
    "### Multiple Linear Regression: $$y = b_{0} + b_{1}x_{1} + b_{2}x_{2}^{2} + ... +b_{n}x_{n}^{n}$$"
   ]
  }
 ],
 "metadata": {
  "language_info": {
   "name": "python"
  }
 },
 "nbformat": 4,
 "nbformat_minor": 2
}
