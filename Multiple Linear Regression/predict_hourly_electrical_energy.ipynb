{
 "cells": [
  {
   "cell_type": "markdown",
   "metadata": {},
   "source": [
    "### Multiple Linear Regression: $$y = b_{0} + b_{1}x_{1} + b_{2}x_{2}^{2} + ... +b_{n}x_{n}^{n}$$"
   ]
  },
  {
   "cell_type": "markdown",
   "metadata": {},
   "source": [
    "## Main Task\n",
    "> Predicting the net hourly electerical energy output of a plant!"
   ]
  },
  {
   "cell_type": "markdown",
   "metadata": {},
   "source": [
    "## Data Understanding  \n",
    "\n",
    "**1.0. What is the domain area of the dataset?**  \n",
    "The dataset *Cycle_Powerplant* contains information combined cycle power plant collected over 6 years!\n",
    "\n",
    "**1.1. Under which circumstances was it collected?**  \n",
    "The data had been collected between 2006 - 2011 and when the power plant was set to work with full load!  \n",
    "\n",
    "**2.0. Which data format?**  \n",
    "The dataset has the *CSV* format!  \n",
    "\n",
    "**2.1. Do the files have headers or another file describing the data?**  \n",
    "Yes, the file has headers!  \n",
    "\n",
    "**2.2. Are the data values separated by commas, semicolon, or tabs?**  \n",
    "The data values are separated by commas;\n",
    "Example: \n",
    "*Amgen Temperature,Exhaust Vaccum,Ambient Pressure,Relative Humidity,Energy*  \n",
    "*14.96,41.76,1024.07,73.17,463.26*  \n",
    "\n",
    "**3.0 How many features and how many observations does the dataset have?**  \n",
    "The dataset has:  \n",
    "* 7 features or columns!  \n",
    "* 9568 observations or rows!  \n",
    "\n",
    "**4.0 Does it contain numerical features? How many?**  \n",
    "The dataset only contains numerical features, 7 numerical features!  \n"
   ]
  }
 ],
 "metadata": {
  "language_info": {
   "name": "python"
  }
 },
 "nbformat": 4,
 "nbformat_minor": 2
}
